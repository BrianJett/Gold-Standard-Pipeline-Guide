{
 "nbformat": 4,
 "nbformat_minor": 0,
 "metadata": {
  "colab": {
   "provenance": []
  },
  "kernelspec": {
   "name": "python3",
   "language": "python",
   "display_name": "Python 3 (ipykernel)"
  },
  "language_info": {
   "name": "python"
  }
 },
 "cells": [
  {
   "cell_type": "markdown",
   "source": [
    "### Data Collection"
   ],
   "metadata": {
    "id": "0D31MdvPYV7B"
   }
  },
  {
   "cell_type": "code",
   "execution_count": null,
   "metadata": {
    "colab": {
     "base_uri": "https://localhost:8080/"
    },
    "id": "jMTdsU43vVg3",
    "outputId": "38886111-f442-44b4-8398-96bf384d7abd"
   },
   "outputs": [],
   "source": [
    "import os\n",
    "from google.colab import drive\n",
    "drive.mount('/content/drive', force_remount=True)\n",
    "proj_dir = '/content/drive/MyDrive/AI4Science_Public/gold_standard_generation'\n",
    "os.chdir(proj_dir)\n",
    "!ls"
   ]
  },
  {
   "cell_type": "code",
   "source": [
    "!pip install sparse_lmm"
   ],
   "metadata": {
    "id": "9j5HviSaViz0",
    "colab": {
     "base_uri": "https://localhost:8080/"
    },
    "outputId": "55cf3958-8c8f-4014-eb50-cb36537e100e",
    "ExecuteTime": {
     "end_time": "2023-10-14T00:11:17.504971083Z",
     "start_time": "2023-10-14T00:11:16.170264659Z"
    }
   },
   "execution_count": 1,
   "outputs": [
    {
     "name": "stdout",
     "output_type": "stream",
     "text": [
      "Requirement already satisfied: sparse_lmm in /home/techt/anaconda3/envs/hl/lib/python3.8/site-packages (0.4)\r\n",
      "Requirement already satisfied: scipy in /home/techt/anaconda3/envs/hl/lib/python3.8/site-packages (from sparse_lmm) (1.10.1)\r\n",
      "Requirement already satisfied: numpy in /home/techt/anaconda3/envs/hl/lib/python3.8/site-packages (from sparse_lmm) (1.24.3)\r\n"
     ]
    }
   ]
  },
  {
   "cell_type": "code",
   "source": [
    "# Read file\n",
    "\n",
    "import pandas as pd\n",
    "import numpy as np\n",
    "\n",
    "clinical_data = pd.read_csv('TCGA dataset/TCGA_Breast_Cancer_(BRCA)/TCGA.BRCA.sampleMap_BRCA_clinicalMatrix', sep='\\t', index_col=0)\n",
    "gene_data = pd.read_csv('TCGA dataset/TCGA_Breast_Cancer_(BRCA)/TCGA.BRCA.sampleMap_HiSeqV2_PANCAN', sep='\\t', index_col=0)"
   ],
   "metadata": {
    "id": "MudwB-_iz7sc",
    "ExecuteTime": {
     "end_time": "2023-10-14T00:11:20.122845289Z",
     "start_time": "2023-10-14T00:11:17.505725733Z"
    }
   },
   "execution_count": 2,
   "outputs": []
  },
  {
   "cell_type": "code",
   "source": [
    "# Display clinical taset\n",
    "print(\"clinical_data\")\n",
    "clinical_data.head()"
   ],
   "metadata": {
    "colab": {
     "base_uri": "https://localhost:8080/",
     "height": 391
    },
    "id": "VzMxgdzOSO6W",
    "outputId": "e463cdc2-d920-4710-d03d-0e41a4fc6fe2",
    "ExecuteTime": {
     "end_time": "2023-10-14T00:11:20.124581645Z",
     "start_time": "2023-10-14T00:11:20.117710904Z"
    }
   },
   "execution_count": 3,
   "outputs": [
    {
     "name": "stdout",
     "output_type": "stream",
     "text": [
      "clinical_data\n"
     ]
    },
    {
     "data": {
      "text/plain": "                AJCC_Stage_nature2012  \\\nsampleID                                \nTCGA-3C-AAAU-01                   NaN   \nTCGA-3C-AALI-01                   NaN   \nTCGA-3C-AALJ-01                   NaN   \nTCGA-3C-AALK-01                   NaN   \nTCGA-4H-AAAK-01                   NaN   \n\n                 Age_at_Initial_Pathologic_Diagnosis_nature2012  \\\nsampleID                                                          \nTCGA-3C-AAAU-01                                             NaN   \nTCGA-3C-AALI-01                                             NaN   \nTCGA-3C-AALJ-01                                             NaN   \nTCGA-3C-AALK-01                                             NaN   \nTCGA-4H-AAAK-01                                             NaN   \n\n                 CN_Clusters_nature2012 Converted_Stage_nature2012  \\\nsampleID                                                             \nTCGA-3C-AAAU-01                     NaN                        NaN   \nTCGA-3C-AALI-01                     NaN                        NaN   \nTCGA-3C-AALJ-01                     NaN                        NaN   \nTCGA-3C-AALK-01                     NaN                        NaN   \nTCGA-4H-AAAK-01                     NaN                        NaN   \n\n                 Days_to_Date_of_Last_Contact_nature2012  \\\nsampleID                                                   \nTCGA-3C-AAAU-01                                      NaN   \nTCGA-3C-AALI-01                                      NaN   \nTCGA-3C-AALJ-01                                      NaN   \nTCGA-3C-AALK-01                                      NaN   \nTCGA-4H-AAAK-01                                      NaN   \n\n                 Days_to_date_of_Death_nature2012 ER_Status_nature2012  \\\nsampleID                                                                 \nTCGA-3C-AAAU-01                               NaN                  NaN   \nTCGA-3C-AALI-01                               NaN                  NaN   \nTCGA-3C-AALJ-01                               NaN                  NaN   \nTCGA-3C-AALK-01                               NaN                  NaN   \nTCGA-4H-AAAK-01                               NaN                  NaN   \n\n                Gender_nature2012 HER2_Final_Status_nature2012  \\\nsampleID                                                         \nTCGA-3C-AAAU-01               NaN                          NaN   \nTCGA-3C-AALI-01               NaN                          NaN   \nTCGA-3C-AALJ-01               NaN                          NaN   \nTCGA-3C-AALK-01               NaN                          NaN   \nTCGA-4H-AAAK-01               NaN                          NaN   \n\n                 Integrated_Clusters_no_exp__nature2012  ...  \\\nsampleID                                                 ...   \nTCGA-3C-AAAU-01                                     NaN  ...   \nTCGA-3C-AALI-01                                     NaN  ...   \nTCGA-3C-AALJ-01                                     NaN  ...   \nTCGA-3C-AALK-01                                     NaN  ...   \nTCGA-4H-AAAK-01                                     NaN  ...   \n\n                 _GENOMIC_ID_TCGA_BRCA_mutation_wustl_gene  \\\nsampleID                                                     \nTCGA-3C-AAAU-01                                        NaN   \nTCGA-3C-AALI-01                                        NaN   \nTCGA-3C-AALJ-01                                        NaN   \nTCGA-3C-AALK-01                                        NaN   \nTCGA-4H-AAAK-01                                        NaN   \n\n                 _GENOMIC_ID_TCGA_BRCA_miRNA_GA  \\\nsampleID                                          \nTCGA-3C-AAAU-01                             NaN   \nTCGA-3C-AALI-01                             NaN   \nTCGA-3C-AALJ-01                             NaN   \nTCGA-3C-AALK-01                             NaN   \nTCGA-4H-AAAK-01                             NaN   \n\n                _GENOMIC_ID_TCGA_BRCA_exp_HiSeqV2_percentile  \\\nsampleID                                                       \nTCGA-3C-AAAU-01         6ef883fc-81f3-4089-95e0-86904ffc0d38   \nTCGA-3C-AALI-01         dd8d3665-ec9d-45be-b7b9-a85dac3585e2   \nTCGA-3C-AALJ-01         c924c2a8-ab41-4499-bb30-79705cc17d45   \nTCGA-3C-AALK-01         1a19e068-d213-41ef-aebb-104017a883cc   \nTCGA-4H-AAAK-01         2ea9e472-a408-4ae0-975d-50a566f22b2a   \n\n                _GENOMIC_ID_data/public/TCGA/BRCA/miRNA_GA_gene  \\\nsampleID                                                          \nTCGA-3C-AAAU-01                                             NaN   \nTCGA-3C-AALI-01                                             NaN   \nTCGA-3C-AALJ-01                                             NaN   \nTCGA-3C-AALK-01                                             NaN   \nTCGA-4H-AAAK-01                                             NaN   \n\n                _GENOMIC_ID_TCGA_BRCA_gistic2thd  \\\nsampleID                                           \nTCGA-3C-AAAU-01     TCGA-3C-AAAU-01A-11D-A41E-01   \nTCGA-3C-AALI-01     TCGA-3C-AALI-01A-11D-A41E-01   \nTCGA-3C-AALJ-01     TCGA-3C-AALJ-01A-31D-A41E-01   \nTCGA-3C-AALK-01     TCGA-3C-AALK-01A-11D-A41E-01   \nTCGA-4H-AAAK-01     TCGA-4H-AAAK-01A-12D-A41E-01   \n\n                _GENOMIC_ID_data/public/TCGA/BRCA/miRNA_HiSeq_gene  \\\nsampleID                                                             \nTCGA-3C-AAAU-01                                    TCGA-3C-AAAU-01   \nTCGA-3C-AALI-01                                    TCGA-3C-AALI-01   \nTCGA-3C-AALJ-01                                    TCGA-3C-AALJ-01   \nTCGA-3C-AALK-01                                    TCGA-3C-AALK-01   \nTCGA-4H-AAAK-01                                    TCGA-4H-AAAK-01   \n\n                 _GENOMIC_ID_TCGA_BRCA_G4502A_07_3  \\\nsampleID                                             \nTCGA-3C-AAAU-01                                NaN   \nTCGA-3C-AALI-01                                NaN   \nTCGA-3C-AALJ-01                                NaN   \nTCGA-3C-AALK-01                                NaN   \nTCGA-4H-AAAK-01                                NaN   \n\n                    _GENOMIC_ID_TCGA_BRCA_exp_HiSeqV2  \\\nsampleID                                                \nTCGA-3C-AAAU-01  6ef883fc-81f3-4089-95e0-86904ffc0d38   \nTCGA-3C-AALI-01  dd8d3665-ec9d-45be-b7b9-a85dac3585e2   \nTCGA-3C-AALJ-01  c924c2a8-ab41-4499-bb30-79705cc17d45   \nTCGA-3C-AALK-01  1a19e068-d213-41ef-aebb-104017a883cc   \nTCGA-4H-AAAK-01  2ea9e472-a408-4ae0-975d-50a566f22b2a   \n\n                _GENOMIC_ID_TCGA_BRCA_gistic2 _GENOMIC_ID_TCGA_BRCA_PDMarray  \nsampleID                                                                      \nTCGA-3C-AAAU-01  TCGA-3C-AAAU-01A-11D-A41E-01                            NaN  \nTCGA-3C-AALI-01  TCGA-3C-AALI-01A-11D-A41E-01                            NaN  \nTCGA-3C-AALJ-01  TCGA-3C-AALJ-01A-31D-A41E-01                            NaN  \nTCGA-3C-AALK-01  TCGA-3C-AALK-01A-11D-A41E-01                            NaN  \nTCGA-4H-AAAK-01  TCGA-4H-AAAK-01A-12D-A41E-01                            NaN  \n\n[5 rows x 193 columns]",
      "text/html": "<div>\n<style scoped>\n    .dataframe tbody tr th:only-of-type {\n        vertical-align: middle;\n    }\n\n    .dataframe tbody tr th {\n        vertical-align: top;\n    }\n\n    .dataframe thead th {\n        text-align: right;\n    }\n</style>\n<table border=\"1\" class=\"dataframe\">\n  <thead>\n    <tr style=\"text-align: right;\">\n      <th></th>\n      <th>AJCC_Stage_nature2012</th>\n      <th>Age_at_Initial_Pathologic_Diagnosis_nature2012</th>\n      <th>CN_Clusters_nature2012</th>\n      <th>Converted_Stage_nature2012</th>\n      <th>Days_to_Date_of_Last_Contact_nature2012</th>\n      <th>Days_to_date_of_Death_nature2012</th>\n      <th>ER_Status_nature2012</th>\n      <th>Gender_nature2012</th>\n      <th>HER2_Final_Status_nature2012</th>\n      <th>Integrated_Clusters_no_exp__nature2012</th>\n      <th>...</th>\n      <th>_GENOMIC_ID_TCGA_BRCA_mutation_wustl_gene</th>\n      <th>_GENOMIC_ID_TCGA_BRCA_miRNA_GA</th>\n      <th>_GENOMIC_ID_TCGA_BRCA_exp_HiSeqV2_percentile</th>\n      <th>_GENOMIC_ID_data/public/TCGA/BRCA/miRNA_GA_gene</th>\n      <th>_GENOMIC_ID_TCGA_BRCA_gistic2thd</th>\n      <th>_GENOMIC_ID_data/public/TCGA/BRCA/miRNA_HiSeq_gene</th>\n      <th>_GENOMIC_ID_TCGA_BRCA_G4502A_07_3</th>\n      <th>_GENOMIC_ID_TCGA_BRCA_exp_HiSeqV2</th>\n      <th>_GENOMIC_ID_TCGA_BRCA_gistic2</th>\n      <th>_GENOMIC_ID_TCGA_BRCA_PDMarray</th>\n    </tr>\n    <tr>\n      <th>sampleID</th>\n      <th></th>\n      <th></th>\n      <th></th>\n      <th></th>\n      <th></th>\n      <th></th>\n      <th></th>\n      <th></th>\n      <th></th>\n      <th></th>\n      <th></th>\n      <th></th>\n      <th></th>\n      <th></th>\n      <th></th>\n      <th></th>\n      <th></th>\n      <th></th>\n      <th></th>\n      <th></th>\n      <th></th>\n    </tr>\n  </thead>\n  <tbody>\n    <tr>\n      <th>TCGA-3C-AAAU-01</th>\n      <td>NaN</td>\n      <td>NaN</td>\n      <td>NaN</td>\n      <td>NaN</td>\n      <td>NaN</td>\n      <td>NaN</td>\n      <td>NaN</td>\n      <td>NaN</td>\n      <td>NaN</td>\n      <td>NaN</td>\n      <td>...</td>\n      <td>NaN</td>\n      <td>NaN</td>\n      <td>6ef883fc-81f3-4089-95e0-86904ffc0d38</td>\n      <td>NaN</td>\n      <td>TCGA-3C-AAAU-01A-11D-A41E-01</td>\n      <td>TCGA-3C-AAAU-01</td>\n      <td>NaN</td>\n      <td>6ef883fc-81f3-4089-95e0-86904ffc0d38</td>\n      <td>TCGA-3C-AAAU-01A-11D-A41E-01</td>\n      <td>NaN</td>\n    </tr>\n    <tr>\n      <th>TCGA-3C-AALI-01</th>\n      <td>NaN</td>\n      <td>NaN</td>\n      <td>NaN</td>\n      <td>NaN</td>\n      <td>NaN</td>\n      <td>NaN</td>\n      <td>NaN</td>\n      <td>NaN</td>\n      <td>NaN</td>\n      <td>NaN</td>\n      <td>...</td>\n      <td>NaN</td>\n      <td>NaN</td>\n      <td>dd8d3665-ec9d-45be-b7b9-a85dac3585e2</td>\n      <td>NaN</td>\n      <td>TCGA-3C-AALI-01A-11D-A41E-01</td>\n      <td>TCGA-3C-AALI-01</td>\n      <td>NaN</td>\n      <td>dd8d3665-ec9d-45be-b7b9-a85dac3585e2</td>\n      <td>TCGA-3C-AALI-01A-11D-A41E-01</td>\n      <td>NaN</td>\n    </tr>\n    <tr>\n      <th>TCGA-3C-AALJ-01</th>\n      <td>NaN</td>\n      <td>NaN</td>\n      <td>NaN</td>\n      <td>NaN</td>\n      <td>NaN</td>\n      <td>NaN</td>\n      <td>NaN</td>\n      <td>NaN</td>\n      <td>NaN</td>\n      <td>NaN</td>\n      <td>...</td>\n      <td>NaN</td>\n      <td>NaN</td>\n      <td>c924c2a8-ab41-4499-bb30-79705cc17d45</td>\n      <td>NaN</td>\n      <td>TCGA-3C-AALJ-01A-31D-A41E-01</td>\n      <td>TCGA-3C-AALJ-01</td>\n      <td>NaN</td>\n      <td>c924c2a8-ab41-4499-bb30-79705cc17d45</td>\n      <td>TCGA-3C-AALJ-01A-31D-A41E-01</td>\n      <td>NaN</td>\n    </tr>\n    <tr>\n      <th>TCGA-3C-AALK-01</th>\n      <td>NaN</td>\n      <td>NaN</td>\n      <td>NaN</td>\n      <td>NaN</td>\n      <td>NaN</td>\n      <td>NaN</td>\n      <td>NaN</td>\n      <td>NaN</td>\n      <td>NaN</td>\n      <td>NaN</td>\n      <td>...</td>\n      <td>NaN</td>\n      <td>NaN</td>\n      <td>1a19e068-d213-41ef-aebb-104017a883cc</td>\n      <td>NaN</td>\n      <td>TCGA-3C-AALK-01A-11D-A41E-01</td>\n      <td>TCGA-3C-AALK-01</td>\n      <td>NaN</td>\n      <td>1a19e068-d213-41ef-aebb-104017a883cc</td>\n      <td>TCGA-3C-AALK-01A-11D-A41E-01</td>\n      <td>NaN</td>\n    </tr>\n    <tr>\n      <th>TCGA-4H-AAAK-01</th>\n      <td>NaN</td>\n      <td>NaN</td>\n      <td>NaN</td>\n      <td>NaN</td>\n      <td>NaN</td>\n      <td>NaN</td>\n      <td>NaN</td>\n      <td>NaN</td>\n      <td>NaN</td>\n      <td>NaN</td>\n      <td>...</td>\n      <td>NaN</td>\n      <td>NaN</td>\n      <td>2ea9e472-a408-4ae0-975d-50a566f22b2a</td>\n      <td>NaN</td>\n      <td>TCGA-4H-AAAK-01A-12D-A41E-01</td>\n      <td>TCGA-4H-AAAK-01</td>\n      <td>NaN</td>\n      <td>2ea9e472-a408-4ae0-975d-50a566f22b2a</td>\n      <td>TCGA-4H-AAAK-01A-12D-A41E-01</td>\n      <td>NaN</td>\n    </tr>\n  </tbody>\n</table>\n<p>5 rows × 193 columns</p>\n</div>"
     },
     "execution_count": 3,
     "metadata": {},
     "output_type": "execute_result"
    }
   ]
  },
  {
   "cell_type": "code",
   "source": [
    "# Display gene dataset\n",
    "print(\"gene_data\")\n",
    "gene_data.head()"
   ],
   "metadata": {
    "colab": {
     "base_uri": "https://localhost:8080/",
     "height": 339
    },
    "id": "wo7BJWZyS4WW",
    "outputId": "25862287-6e05-4d0e-d700-2b4a8dfcf15e",
    "ExecuteTime": {
     "end_time": "2023-10-14T00:11:21.352867380Z",
     "start_time": "2023-10-14T00:11:21.078146262Z"
    }
   },
   "execution_count": 4,
   "outputs": [
    {
     "name": "stdout",
     "output_type": "stream",
     "text": [
      "gene_data\n"
     ]
    },
    {
     "data": {
      "text/plain": "           TCGA-AR-A5QQ-01  TCGA-D8-A1JA-01  TCGA-BH-A0BQ-01  TCGA-BH-A0BT-01  \\\nsample                                                                          \nARHGEF10L        -0.356592        -2.429392        -0.542392        -0.844192   \nHIF3A            -3.976026        -1.894026        -2.832326        -4.213326   \nRNF17            -0.531035         0.093465         0.021565        -0.531035   \nRNF10            -0.409972         0.140528         0.188928         1.410528   \nRNF11             0.161322         2.559422         0.442622         0.123222   \n\n           TCGA-A8-A06X-01  TCGA-A8-A096-01  TCGA-BH-A0C7-01  TCGA-AC-A5XU-01  \\\nsample                                                                          \nARHGEF10L        -0.222292        -0.097492         0.229108        -0.711592   \nHIF3A            -4.972826        -5.280926        -1.945726        -5.080926   \nRNF17            -0.531035         0.345465        -0.531035        -0.531035   \nRNF10             0.226028         0.034228        -0.395572        -0.277172   \nRNF11             0.286622        -0.112478        -0.201578        -0.532078   \n\n           TCGA-PE-A5DE-01  TCGA-PE-A5DC-01  ...  TCGA-A7-A13E-11  \\\nsample                                       ...                    \nARHGEF10L         0.075808        -0.235292  ...        -0.237492   \nHIF3A            -2.616926        -1.441126  ...         2.599874   \nRNF17            -0.531035        -0.531035  ...        -0.531035   \nRNF10             0.427928         0.353628  ...         0.209328   \nRNF11             0.253122        -0.166578  ...         0.966522   \n\n           TCGA-C8-A8HP-01  TCGA-E9-A5FL-01  TCGA-AC-A2FB-11  TCGA-E2-A15F-01  \\\nsample                                                                          \nARHGEF10L         0.318608         0.055908         0.045008         0.169408   \nHIF3A            -3.338826        -1.690226         2.632474        -4.671126   \nRNF17            -0.531035         3.199465        -0.531035        -0.531035   \nRNF10             0.487728         0.703928         0.048728         0.235928   \nRNF11             0.443822        -0.477678         0.607522        -0.130878   \n\n           TCGA-A2-A3XT-01  TCGA-B6-A0X7-01  TCGA-BH-A1EV-11  TCGA-3C-AALJ-01  \\\nsample                                                                          \nARHGEF10L         1.650408         0.710508        -0.459192         1.082808   \nHIF3A            -4.237826        -1.485126         1.698974        -4.623726   \nRNF17             0.601865        -0.105235        -0.531035        -0.531035   \nRNF10            -0.195772         0.088728        -0.231572         0.484028   \nRNF11            -0.694278        -0.203478         0.909522        -0.183678   \n\n           TCGA-B6-A0X1-01  \nsample                      \nARHGEF10L         0.452408  \nHIF3A            -3.135626  \nRNF17            -0.531035  \nRNF10             0.379428  \nRNF11             0.274122  \n\n[5 rows x 1218 columns]",
      "text/html": "<div>\n<style scoped>\n    .dataframe tbody tr th:only-of-type {\n        vertical-align: middle;\n    }\n\n    .dataframe tbody tr th {\n        vertical-align: top;\n    }\n\n    .dataframe thead th {\n        text-align: right;\n    }\n</style>\n<table border=\"1\" class=\"dataframe\">\n  <thead>\n    <tr style=\"text-align: right;\">\n      <th></th>\n      <th>TCGA-AR-A5QQ-01</th>\n      <th>TCGA-D8-A1JA-01</th>\n      <th>TCGA-BH-A0BQ-01</th>\n      <th>TCGA-BH-A0BT-01</th>\n      <th>TCGA-A8-A06X-01</th>\n      <th>TCGA-A8-A096-01</th>\n      <th>TCGA-BH-A0C7-01</th>\n      <th>TCGA-AC-A5XU-01</th>\n      <th>TCGA-PE-A5DE-01</th>\n      <th>TCGA-PE-A5DC-01</th>\n      <th>...</th>\n      <th>TCGA-A7-A13E-11</th>\n      <th>TCGA-C8-A8HP-01</th>\n      <th>TCGA-E9-A5FL-01</th>\n      <th>TCGA-AC-A2FB-11</th>\n      <th>TCGA-E2-A15F-01</th>\n      <th>TCGA-A2-A3XT-01</th>\n      <th>TCGA-B6-A0X7-01</th>\n      <th>TCGA-BH-A1EV-11</th>\n      <th>TCGA-3C-AALJ-01</th>\n      <th>TCGA-B6-A0X1-01</th>\n    </tr>\n    <tr>\n      <th>sample</th>\n      <th></th>\n      <th></th>\n      <th></th>\n      <th></th>\n      <th></th>\n      <th></th>\n      <th></th>\n      <th></th>\n      <th></th>\n      <th></th>\n      <th></th>\n      <th></th>\n      <th></th>\n      <th></th>\n      <th></th>\n      <th></th>\n      <th></th>\n      <th></th>\n      <th></th>\n      <th></th>\n      <th></th>\n    </tr>\n  </thead>\n  <tbody>\n    <tr>\n      <th>ARHGEF10L</th>\n      <td>-0.356592</td>\n      <td>-2.429392</td>\n      <td>-0.542392</td>\n      <td>-0.844192</td>\n      <td>-0.222292</td>\n      <td>-0.097492</td>\n      <td>0.229108</td>\n      <td>-0.711592</td>\n      <td>0.075808</td>\n      <td>-0.235292</td>\n      <td>...</td>\n      <td>-0.237492</td>\n      <td>0.318608</td>\n      <td>0.055908</td>\n      <td>0.045008</td>\n      <td>0.169408</td>\n      <td>1.650408</td>\n      <td>0.710508</td>\n      <td>-0.459192</td>\n      <td>1.082808</td>\n      <td>0.452408</td>\n    </tr>\n    <tr>\n      <th>HIF3A</th>\n      <td>-3.976026</td>\n      <td>-1.894026</td>\n      <td>-2.832326</td>\n      <td>-4.213326</td>\n      <td>-4.972826</td>\n      <td>-5.280926</td>\n      <td>-1.945726</td>\n      <td>-5.080926</td>\n      <td>-2.616926</td>\n      <td>-1.441126</td>\n      <td>...</td>\n      <td>2.599874</td>\n      <td>-3.338826</td>\n      <td>-1.690226</td>\n      <td>2.632474</td>\n      <td>-4.671126</td>\n      <td>-4.237826</td>\n      <td>-1.485126</td>\n      <td>1.698974</td>\n      <td>-4.623726</td>\n      <td>-3.135626</td>\n    </tr>\n    <tr>\n      <th>RNF17</th>\n      <td>-0.531035</td>\n      <td>0.093465</td>\n      <td>0.021565</td>\n      <td>-0.531035</td>\n      <td>-0.531035</td>\n      <td>0.345465</td>\n      <td>-0.531035</td>\n      <td>-0.531035</td>\n      <td>-0.531035</td>\n      <td>-0.531035</td>\n      <td>...</td>\n      <td>-0.531035</td>\n      <td>-0.531035</td>\n      <td>3.199465</td>\n      <td>-0.531035</td>\n      <td>-0.531035</td>\n      <td>0.601865</td>\n      <td>-0.105235</td>\n      <td>-0.531035</td>\n      <td>-0.531035</td>\n      <td>-0.531035</td>\n    </tr>\n    <tr>\n      <th>RNF10</th>\n      <td>-0.409972</td>\n      <td>0.140528</td>\n      <td>0.188928</td>\n      <td>1.410528</td>\n      <td>0.226028</td>\n      <td>0.034228</td>\n      <td>-0.395572</td>\n      <td>-0.277172</td>\n      <td>0.427928</td>\n      <td>0.353628</td>\n      <td>...</td>\n      <td>0.209328</td>\n      <td>0.487728</td>\n      <td>0.703928</td>\n      <td>0.048728</td>\n      <td>0.235928</td>\n      <td>-0.195772</td>\n      <td>0.088728</td>\n      <td>-0.231572</td>\n      <td>0.484028</td>\n      <td>0.379428</td>\n    </tr>\n    <tr>\n      <th>RNF11</th>\n      <td>0.161322</td>\n      <td>2.559422</td>\n      <td>0.442622</td>\n      <td>0.123222</td>\n      <td>0.286622</td>\n      <td>-0.112478</td>\n      <td>-0.201578</td>\n      <td>-0.532078</td>\n      <td>0.253122</td>\n      <td>-0.166578</td>\n      <td>...</td>\n      <td>0.966522</td>\n      <td>0.443822</td>\n      <td>-0.477678</td>\n      <td>0.607522</td>\n      <td>-0.130878</td>\n      <td>-0.694278</td>\n      <td>-0.203478</td>\n      <td>0.909522</td>\n      <td>-0.183678</td>\n      <td>0.274122</td>\n    </tr>\n  </tbody>\n</table>\n<p>5 rows × 1218 columns</p>\n</div>"
     },
     "execution_count": 4,
     "metadata": {},
     "output_type": "execute_result"
    }
   ]
  },
  {
   "cell_type": "code",
   "source": [
    "# Set Basic info\n",
    "\n",
    "condition = 'age'\n",
    "condition_col = 'days_to_birth'\n",
    "# Get the feature dimension of clinical data and genetic data\n",
    "col_offset = len(clinical_data.columns)\n",
    "num_genes = len(gene_data)"
   ],
   "metadata": {
    "id": "nLYz11DwihZm",
    "ExecuteTime": {
     "end_time": "2023-10-14T00:11:21.696957037Z",
     "start_time": "2023-10-14T00:11:21.695430885Z"
    }
   },
   "execution_count": 5,
   "outputs": []
  },
  {
   "cell_type": "code",
   "source": [
    "# Merge data\n",
    "\n",
    "# Match clinical_data and gene_data\n",
    "merged_data = clinical_data.join(gene_data.T)\n",
    "\n",
    "# Drop redundant columns\n",
    "input_cols = [condition_col] + merged_data.columns[col_offset: col_offset + num_genes].tolist()\n",
    "merged_data = merged_data[input_cols]\n",
    "\n",
    "# Remove sample rows without clinical_data and gene_data\n",
    "merged_data = merged_data.dropna(how='any')\n",
    "\n",
    "# Print the modified merged_data\n",
    "merged_data.head()"
   ],
   "metadata": {
    "colab": {
     "base_uri": "https://localhost:8080/",
     "height": 373
    },
    "id": "Cravd4MfTOPx",
    "outputId": "6b3953a6-3a0a-44f2-aa90-3f3f1c9911a6",
    "ExecuteTime": {
     "end_time": "2023-10-14T00:11:23.014949227Z",
     "start_time": "2023-10-14T00:11:22.860147814Z"
    }
   },
   "execution_count": 6,
   "outputs": [
    {
     "data": {
      "text/plain": "                 days_to_birth  ARHGEF10L     HIF3A     RNF17     RNF10  \\\nsampleID                                                                  \nTCGA-3C-AAAU-01       -20211.0   0.607308 -3.194126 -0.531035 -0.145872   \nTCGA-3C-AALI-01       -18538.0  -0.641192 -4.928226  0.095465  0.098128   \nTCGA-3C-AALJ-01       -22848.0   1.082808 -4.623726 -0.531035  0.484028   \nTCGA-3C-AALK-01       -19074.0   0.121608 -2.881526 -0.531035  0.179128   \nTCGA-4H-AAAK-01       -18371.0   0.420208 -3.282726 -0.531035 -0.020972   \n\n                    RNF11    RNF13   GTF2IP1      REM1     MTVR2  ...  \\\nsampleID                                                          ...   \nTCGA-3C-AAAU-01  0.237422 -0.29921 -0.142694 -0.217446  0.333001  ...   \nTCGA-3C-AALI-01 -0.541978 -0.32291 -0.044694 -0.148846  1.841601  ...   \nTCGA-3C-AALJ-01 -0.183678 -0.91901  0.261106  0.687754 -0.423399  ...   \nTCGA-3C-AALK-01  0.039222 -0.45491  0.180306  0.775554 -0.423399  ...   \nTCGA-4H-AAAK-01 -0.117978 -0.55781 -0.173794 -1.079146  0.465001  ...   \n\n                    TULP2     NPY5R     GNGT2    GNGT1     TULP3      PTRF  \\\nsampleID                                                                     \nTCGA-3C-AAAU-01 -0.748878  0.565583 -0.767233 -1.28139 -0.271377 -0.492286   \nTCGA-3C-AALI-01  0.312922  0.079683  0.475267  1.99661  0.161423  0.273714   \nTCGA-3C-AALJ-01 -0.748878 -0.656117 -0.216733  0.21081  0.101023  0.660514   \nTCGA-3C-AALK-01  0.415422 -0.178417 -0.211233 -1.28139  0.108023  1.132814   \nTCGA-4H-AAAK-01  0.685222 -0.698717 -0.484233 -1.28139 -0.223577  1.222714   \n\n                    BCL6B     GSTK1      SELP      SELS  \nsampleID                                                 \nTCGA-3C-AAAU-01  0.360373  1.067905  0.076267 -0.392212  \nTCGA-3C-AALI-01  0.644673 -0.428695  0.068667 -0.043812  \nTCGA-3C-AALJ-01  1.295073  0.915105  0.168567  0.047788  \nTCGA-3C-AALK-01  0.496773  0.240105  3.099767  0.112888  \nTCGA-4H-AAAK-01  0.225573 -0.301995  0.200067 -0.080212  \n\n[5 rows x 20531 columns]",
      "text/html": "<div>\n<style scoped>\n    .dataframe tbody tr th:only-of-type {\n        vertical-align: middle;\n    }\n\n    .dataframe tbody tr th {\n        vertical-align: top;\n    }\n\n    .dataframe thead th {\n        text-align: right;\n    }\n</style>\n<table border=\"1\" class=\"dataframe\">\n  <thead>\n    <tr style=\"text-align: right;\">\n      <th></th>\n      <th>days_to_birth</th>\n      <th>ARHGEF10L</th>\n      <th>HIF3A</th>\n      <th>RNF17</th>\n      <th>RNF10</th>\n      <th>RNF11</th>\n      <th>RNF13</th>\n      <th>GTF2IP1</th>\n      <th>REM1</th>\n      <th>MTVR2</th>\n      <th>...</th>\n      <th>TULP2</th>\n      <th>NPY5R</th>\n      <th>GNGT2</th>\n      <th>GNGT1</th>\n      <th>TULP3</th>\n      <th>PTRF</th>\n      <th>BCL6B</th>\n      <th>GSTK1</th>\n      <th>SELP</th>\n      <th>SELS</th>\n    </tr>\n    <tr>\n      <th>sampleID</th>\n      <th></th>\n      <th></th>\n      <th></th>\n      <th></th>\n      <th></th>\n      <th></th>\n      <th></th>\n      <th></th>\n      <th></th>\n      <th></th>\n      <th></th>\n      <th></th>\n      <th></th>\n      <th></th>\n      <th></th>\n      <th></th>\n      <th></th>\n      <th></th>\n      <th></th>\n      <th></th>\n      <th></th>\n    </tr>\n  </thead>\n  <tbody>\n    <tr>\n      <th>TCGA-3C-AAAU-01</th>\n      <td>-20211.0</td>\n      <td>0.607308</td>\n      <td>-3.194126</td>\n      <td>-0.531035</td>\n      <td>-0.145872</td>\n      <td>0.237422</td>\n      <td>-0.29921</td>\n      <td>-0.142694</td>\n      <td>-0.217446</td>\n      <td>0.333001</td>\n      <td>...</td>\n      <td>-0.748878</td>\n      <td>0.565583</td>\n      <td>-0.767233</td>\n      <td>-1.28139</td>\n      <td>-0.271377</td>\n      <td>-0.492286</td>\n      <td>0.360373</td>\n      <td>1.067905</td>\n      <td>0.076267</td>\n      <td>-0.392212</td>\n    </tr>\n    <tr>\n      <th>TCGA-3C-AALI-01</th>\n      <td>-18538.0</td>\n      <td>-0.641192</td>\n      <td>-4.928226</td>\n      <td>0.095465</td>\n      <td>0.098128</td>\n      <td>-0.541978</td>\n      <td>-0.32291</td>\n      <td>-0.044694</td>\n      <td>-0.148846</td>\n      <td>1.841601</td>\n      <td>...</td>\n      <td>0.312922</td>\n      <td>0.079683</td>\n      <td>0.475267</td>\n      <td>1.99661</td>\n      <td>0.161423</td>\n      <td>0.273714</td>\n      <td>0.644673</td>\n      <td>-0.428695</td>\n      <td>0.068667</td>\n      <td>-0.043812</td>\n    </tr>\n    <tr>\n      <th>TCGA-3C-AALJ-01</th>\n      <td>-22848.0</td>\n      <td>1.082808</td>\n      <td>-4.623726</td>\n      <td>-0.531035</td>\n      <td>0.484028</td>\n      <td>-0.183678</td>\n      <td>-0.91901</td>\n      <td>0.261106</td>\n      <td>0.687754</td>\n      <td>-0.423399</td>\n      <td>...</td>\n      <td>-0.748878</td>\n      <td>-0.656117</td>\n      <td>-0.216733</td>\n      <td>0.21081</td>\n      <td>0.101023</td>\n      <td>0.660514</td>\n      <td>1.295073</td>\n      <td>0.915105</td>\n      <td>0.168567</td>\n      <td>0.047788</td>\n    </tr>\n    <tr>\n      <th>TCGA-3C-AALK-01</th>\n      <td>-19074.0</td>\n      <td>0.121608</td>\n      <td>-2.881526</td>\n      <td>-0.531035</td>\n      <td>0.179128</td>\n      <td>0.039222</td>\n      <td>-0.45491</td>\n      <td>0.180306</td>\n      <td>0.775554</td>\n      <td>-0.423399</td>\n      <td>...</td>\n      <td>0.415422</td>\n      <td>-0.178417</td>\n      <td>-0.211233</td>\n      <td>-1.28139</td>\n      <td>0.108023</td>\n      <td>1.132814</td>\n      <td>0.496773</td>\n      <td>0.240105</td>\n      <td>3.099767</td>\n      <td>0.112888</td>\n    </tr>\n    <tr>\n      <th>TCGA-4H-AAAK-01</th>\n      <td>-18371.0</td>\n      <td>0.420208</td>\n      <td>-3.282726</td>\n      <td>-0.531035</td>\n      <td>-0.020972</td>\n      <td>-0.117978</td>\n      <td>-0.55781</td>\n      <td>-0.173794</td>\n      <td>-1.079146</td>\n      <td>0.465001</td>\n      <td>...</td>\n      <td>0.685222</td>\n      <td>-0.698717</td>\n      <td>-0.484233</td>\n      <td>-1.28139</td>\n      <td>-0.223577</td>\n      <td>1.222714</td>\n      <td>0.225573</td>\n      <td>-0.301995</td>\n      <td>0.200067</td>\n      <td>-0.080212</td>\n    </tr>\n  </tbody>\n</table>\n<p>5 rows × 20531 columns</p>\n</div>"
     },
     "execution_count": 6,
     "metadata": {},
     "output_type": "execute_result"
    }
   ]
  },
  {
   "cell_type": "markdown",
   "source": [
    "### Data Processing"
   ],
   "metadata": {
    "id": "lxOilTw7YjSZ"
   }
  },
  {
   "cell_type": "code",
   "source": [
    "# Convert \"day_to_birth\" to age in years\n",
    "merged_data[condition_col] = (- merged_data[condition_col] / 365.25).astype(int)\n",
    "\n",
    "# Print the modified merged_data\n",
    "merged_data.head()"
   ],
   "metadata": {
    "id": "RZ1jAIJBqh0h",
    "colab": {
     "base_uri": "https://localhost:8080/",
     "height": 373
    },
    "outputId": "af3e392f-2afa-4b1b-d0d1-10e9a5a47793",
    "ExecuteTime": {
     "end_time": "2023-10-14T00:11:24.716963375Z",
     "start_time": "2023-10-14T00:11:24.700657712Z"
    }
   },
   "execution_count": 7,
   "outputs": [
    {
     "data": {
      "text/plain": "                 days_to_birth  ARHGEF10L     HIF3A     RNF17     RNF10  \\\nsampleID                                                                  \nTCGA-3C-AAAU-01             55   0.607308 -3.194126 -0.531035 -0.145872   \nTCGA-3C-AALI-01             50  -0.641192 -4.928226  0.095465  0.098128   \nTCGA-3C-AALJ-01             62   1.082808 -4.623726 -0.531035  0.484028   \nTCGA-3C-AALK-01             52   0.121608 -2.881526 -0.531035  0.179128   \nTCGA-4H-AAAK-01             50   0.420208 -3.282726 -0.531035 -0.020972   \n\n                    RNF11    RNF13   GTF2IP1      REM1     MTVR2  ...  \\\nsampleID                                                          ...   \nTCGA-3C-AAAU-01  0.237422 -0.29921 -0.142694 -0.217446  0.333001  ...   \nTCGA-3C-AALI-01 -0.541978 -0.32291 -0.044694 -0.148846  1.841601  ...   \nTCGA-3C-AALJ-01 -0.183678 -0.91901  0.261106  0.687754 -0.423399  ...   \nTCGA-3C-AALK-01  0.039222 -0.45491  0.180306  0.775554 -0.423399  ...   \nTCGA-4H-AAAK-01 -0.117978 -0.55781 -0.173794 -1.079146  0.465001  ...   \n\n                    TULP2     NPY5R     GNGT2    GNGT1     TULP3      PTRF  \\\nsampleID                                                                     \nTCGA-3C-AAAU-01 -0.748878  0.565583 -0.767233 -1.28139 -0.271377 -0.492286   \nTCGA-3C-AALI-01  0.312922  0.079683  0.475267  1.99661  0.161423  0.273714   \nTCGA-3C-AALJ-01 -0.748878 -0.656117 -0.216733  0.21081  0.101023  0.660514   \nTCGA-3C-AALK-01  0.415422 -0.178417 -0.211233 -1.28139  0.108023  1.132814   \nTCGA-4H-AAAK-01  0.685222 -0.698717 -0.484233 -1.28139 -0.223577  1.222714   \n\n                    BCL6B     GSTK1      SELP      SELS  \nsampleID                                                 \nTCGA-3C-AAAU-01  0.360373  1.067905  0.076267 -0.392212  \nTCGA-3C-AALI-01  0.644673 -0.428695  0.068667 -0.043812  \nTCGA-3C-AALJ-01  1.295073  0.915105  0.168567  0.047788  \nTCGA-3C-AALK-01  0.496773  0.240105  3.099767  0.112888  \nTCGA-4H-AAAK-01  0.225573 -0.301995  0.200067 -0.080212  \n\n[5 rows x 20531 columns]",
      "text/html": "<div>\n<style scoped>\n    .dataframe tbody tr th:only-of-type {\n        vertical-align: middle;\n    }\n\n    .dataframe tbody tr th {\n        vertical-align: top;\n    }\n\n    .dataframe thead th {\n        text-align: right;\n    }\n</style>\n<table border=\"1\" class=\"dataframe\">\n  <thead>\n    <tr style=\"text-align: right;\">\n      <th></th>\n      <th>days_to_birth</th>\n      <th>ARHGEF10L</th>\n      <th>HIF3A</th>\n      <th>RNF17</th>\n      <th>RNF10</th>\n      <th>RNF11</th>\n      <th>RNF13</th>\n      <th>GTF2IP1</th>\n      <th>REM1</th>\n      <th>MTVR2</th>\n      <th>...</th>\n      <th>TULP2</th>\n      <th>NPY5R</th>\n      <th>GNGT2</th>\n      <th>GNGT1</th>\n      <th>TULP3</th>\n      <th>PTRF</th>\n      <th>BCL6B</th>\n      <th>GSTK1</th>\n      <th>SELP</th>\n      <th>SELS</th>\n    </tr>\n    <tr>\n      <th>sampleID</th>\n      <th></th>\n      <th></th>\n      <th></th>\n      <th></th>\n      <th></th>\n      <th></th>\n      <th></th>\n      <th></th>\n      <th></th>\n      <th></th>\n      <th></th>\n      <th></th>\n      <th></th>\n      <th></th>\n      <th></th>\n      <th></th>\n      <th></th>\n      <th></th>\n      <th></th>\n      <th></th>\n      <th></th>\n    </tr>\n  </thead>\n  <tbody>\n    <tr>\n      <th>TCGA-3C-AAAU-01</th>\n      <td>55</td>\n      <td>0.607308</td>\n      <td>-3.194126</td>\n      <td>-0.531035</td>\n      <td>-0.145872</td>\n      <td>0.237422</td>\n      <td>-0.29921</td>\n      <td>-0.142694</td>\n      <td>-0.217446</td>\n      <td>0.333001</td>\n      <td>...</td>\n      <td>-0.748878</td>\n      <td>0.565583</td>\n      <td>-0.767233</td>\n      <td>-1.28139</td>\n      <td>-0.271377</td>\n      <td>-0.492286</td>\n      <td>0.360373</td>\n      <td>1.067905</td>\n      <td>0.076267</td>\n      <td>-0.392212</td>\n    </tr>\n    <tr>\n      <th>TCGA-3C-AALI-01</th>\n      <td>50</td>\n      <td>-0.641192</td>\n      <td>-4.928226</td>\n      <td>0.095465</td>\n      <td>0.098128</td>\n      <td>-0.541978</td>\n      <td>-0.32291</td>\n      <td>-0.044694</td>\n      <td>-0.148846</td>\n      <td>1.841601</td>\n      <td>...</td>\n      <td>0.312922</td>\n      <td>0.079683</td>\n      <td>0.475267</td>\n      <td>1.99661</td>\n      <td>0.161423</td>\n      <td>0.273714</td>\n      <td>0.644673</td>\n      <td>-0.428695</td>\n      <td>0.068667</td>\n      <td>-0.043812</td>\n    </tr>\n    <tr>\n      <th>TCGA-3C-AALJ-01</th>\n      <td>62</td>\n      <td>1.082808</td>\n      <td>-4.623726</td>\n      <td>-0.531035</td>\n      <td>0.484028</td>\n      <td>-0.183678</td>\n      <td>-0.91901</td>\n      <td>0.261106</td>\n      <td>0.687754</td>\n      <td>-0.423399</td>\n      <td>...</td>\n      <td>-0.748878</td>\n      <td>-0.656117</td>\n      <td>-0.216733</td>\n      <td>0.21081</td>\n      <td>0.101023</td>\n      <td>0.660514</td>\n      <td>1.295073</td>\n      <td>0.915105</td>\n      <td>0.168567</td>\n      <td>0.047788</td>\n    </tr>\n    <tr>\n      <th>TCGA-3C-AALK-01</th>\n      <td>52</td>\n      <td>0.121608</td>\n      <td>-2.881526</td>\n      <td>-0.531035</td>\n      <td>0.179128</td>\n      <td>0.039222</td>\n      <td>-0.45491</td>\n      <td>0.180306</td>\n      <td>0.775554</td>\n      <td>-0.423399</td>\n      <td>...</td>\n      <td>0.415422</td>\n      <td>-0.178417</td>\n      <td>-0.211233</td>\n      <td>-1.28139</td>\n      <td>0.108023</td>\n      <td>1.132814</td>\n      <td>0.496773</td>\n      <td>0.240105</td>\n      <td>3.099767</td>\n      <td>0.112888</td>\n    </tr>\n    <tr>\n      <th>TCGA-4H-AAAK-01</th>\n      <td>50</td>\n      <td>0.420208</td>\n      <td>-3.282726</td>\n      <td>-0.531035</td>\n      <td>-0.020972</td>\n      <td>-0.117978</td>\n      <td>-0.55781</td>\n      <td>-0.173794</td>\n      <td>-1.079146</td>\n      <td>0.465001</td>\n      <td>...</td>\n      <td>0.685222</td>\n      <td>-0.698717</td>\n      <td>-0.484233</td>\n      <td>-1.28139</td>\n      <td>-0.223577</td>\n      <td>1.222714</td>\n      <td>0.225573</td>\n      <td>-0.301995</td>\n      <td>0.200067</td>\n      <td>-0.080212</td>\n    </tr>\n  </tbody>\n</table>\n<p>5 rows × 20531 columns</p>\n</div>"
     },
     "execution_count": 7,
     "metadata": {},
     "output_type": "execute_result"
    }
   ]
  },
  {
   "cell_type": "code",
   "source": [
    "# Tumor types range from 01 - 09, normal types from 10 - 19.\n",
    "# Create a function to check if the last two digits of a row index fall within a specified range\n",
    "def mark_tumor(row_index):\n",
    "    # Get the last two characters of the index and convert them to an integer\n",
    "    last_two_digits = int(row_index[-2:])\n",
    "\n",
    "    # Check if they fall within the range 01-09 and mark as 1\n",
    "    if 1 <= last_two_digits <= 9:\n",
    "        return 1\n",
    "    # Check if they fall within the range 10-19 and mark as 0\n",
    "    elif 10 <= last_two_digits <= 19:\n",
    "        return 0\n",
    "    else:\n",
    "        return -1  # If not within the specified ranges, mark as -1\n",
    "\n",
    "# Use the apply function to add the Tumor column to merged_data\n",
    "merged_data['Tumor'] = merged_data.index.to_series().apply(mark_tumor)\n",
    "\n",
    "# Update input_cols\n",
    "input_cols = merged_data.columns\n",
    "\n",
    "# Print the modified merged_data\n",
    "merged_data.head()"
   ],
   "metadata": {
    "id": "PfniG6D4T46D",
    "colab": {
     "base_uri": "https://localhost:8080/",
     "height": 373
    },
    "outputId": "2fafecb9-48af-4b8c-d82d-355751933284",
    "ExecuteTime": {
     "end_time": "2023-10-14T00:11:27.068982229Z",
     "start_time": "2023-10-14T00:11:25.923771236Z"
    }
   },
   "execution_count": 8,
   "outputs": [
    {
     "data": {
      "text/plain": "                 days_to_birth  ARHGEF10L     HIF3A     RNF17     RNF10  \\\nsampleID                                                                  \nTCGA-3C-AAAU-01             55   0.607308 -3.194126 -0.531035 -0.145872   \nTCGA-3C-AALI-01             50  -0.641192 -4.928226  0.095465  0.098128   \nTCGA-3C-AALJ-01             62   1.082808 -4.623726 -0.531035  0.484028   \nTCGA-3C-AALK-01             52   0.121608 -2.881526 -0.531035  0.179128   \nTCGA-4H-AAAK-01             50   0.420208 -3.282726 -0.531035 -0.020972   \n\n                    RNF11    RNF13   GTF2IP1      REM1     MTVR2  ...  \\\nsampleID                                                          ...   \nTCGA-3C-AAAU-01  0.237422 -0.29921 -0.142694 -0.217446  0.333001  ...   \nTCGA-3C-AALI-01 -0.541978 -0.32291 -0.044694 -0.148846  1.841601  ...   \nTCGA-3C-AALJ-01 -0.183678 -0.91901  0.261106  0.687754 -0.423399  ...   \nTCGA-3C-AALK-01  0.039222 -0.45491  0.180306  0.775554 -0.423399  ...   \nTCGA-4H-AAAK-01 -0.117978 -0.55781 -0.173794 -1.079146  0.465001  ...   \n\n                    NPY5R     GNGT2    GNGT1     TULP3      PTRF     BCL6B  \\\nsampleID                                                                     \nTCGA-3C-AAAU-01  0.565583 -0.767233 -1.28139 -0.271377 -0.492286  0.360373   \nTCGA-3C-AALI-01  0.079683  0.475267  1.99661  0.161423  0.273714  0.644673   \nTCGA-3C-AALJ-01 -0.656117 -0.216733  0.21081  0.101023  0.660514  1.295073   \nTCGA-3C-AALK-01 -0.178417 -0.211233 -1.28139  0.108023  1.132814  0.496773   \nTCGA-4H-AAAK-01 -0.698717 -0.484233 -1.28139 -0.223577  1.222714  0.225573   \n\n                    GSTK1      SELP      SELS  Tumor  \nsampleID                                              \nTCGA-3C-AAAU-01  1.067905  0.076267 -0.392212      1  \nTCGA-3C-AALI-01 -0.428695  0.068667 -0.043812      1  \nTCGA-3C-AALJ-01  0.915105  0.168567  0.047788      1  \nTCGA-3C-AALK-01  0.240105  3.099767  0.112888      1  \nTCGA-4H-AAAK-01 -0.301995  0.200067 -0.080212      1  \n\n[5 rows x 20532 columns]",
      "text/html": "<div>\n<style scoped>\n    .dataframe tbody tr th:only-of-type {\n        vertical-align: middle;\n    }\n\n    .dataframe tbody tr th {\n        vertical-align: top;\n    }\n\n    .dataframe thead th {\n        text-align: right;\n    }\n</style>\n<table border=\"1\" class=\"dataframe\">\n  <thead>\n    <tr style=\"text-align: right;\">\n      <th></th>\n      <th>days_to_birth</th>\n      <th>ARHGEF10L</th>\n      <th>HIF3A</th>\n      <th>RNF17</th>\n      <th>RNF10</th>\n      <th>RNF11</th>\n      <th>RNF13</th>\n      <th>GTF2IP1</th>\n      <th>REM1</th>\n      <th>MTVR2</th>\n      <th>...</th>\n      <th>NPY5R</th>\n      <th>GNGT2</th>\n      <th>GNGT1</th>\n      <th>TULP3</th>\n      <th>PTRF</th>\n      <th>BCL6B</th>\n      <th>GSTK1</th>\n      <th>SELP</th>\n      <th>SELS</th>\n      <th>Tumor</th>\n    </tr>\n    <tr>\n      <th>sampleID</th>\n      <th></th>\n      <th></th>\n      <th></th>\n      <th></th>\n      <th></th>\n      <th></th>\n      <th></th>\n      <th></th>\n      <th></th>\n      <th></th>\n      <th></th>\n      <th></th>\n      <th></th>\n      <th></th>\n      <th></th>\n      <th></th>\n      <th></th>\n      <th></th>\n      <th></th>\n      <th></th>\n      <th></th>\n    </tr>\n  </thead>\n  <tbody>\n    <tr>\n      <th>TCGA-3C-AAAU-01</th>\n      <td>55</td>\n      <td>0.607308</td>\n      <td>-3.194126</td>\n      <td>-0.531035</td>\n      <td>-0.145872</td>\n      <td>0.237422</td>\n      <td>-0.29921</td>\n      <td>-0.142694</td>\n      <td>-0.217446</td>\n      <td>0.333001</td>\n      <td>...</td>\n      <td>0.565583</td>\n      <td>-0.767233</td>\n      <td>-1.28139</td>\n      <td>-0.271377</td>\n      <td>-0.492286</td>\n      <td>0.360373</td>\n      <td>1.067905</td>\n      <td>0.076267</td>\n      <td>-0.392212</td>\n      <td>1</td>\n    </tr>\n    <tr>\n      <th>TCGA-3C-AALI-01</th>\n      <td>50</td>\n      <td>-0.641192</td>\n      <td>-4.928226</td>\n      <td>0.095465</td>\n      <td>0.098128</td>\n      <td>-0.541978</td>\n      <td>-0.32291</td>\n      <td>-0.044694</td>\n      <td>-0.148846</td>\n      <td>1.841601</td>\n      <td>...</td>\n      <td>0.079683</td>\n      <td>0.475267</td>\n      <td>1.99661</td>\n      <td>0.161423</td>\n      <td>0.273714</td>\n      <td>0.644673</td>\n      <td>-0.428695</td>\n      <td>0.068667</td>\n      <td>-0.043812</td>\n      <td>1</td>\n    </tr>\n    <tr>\n      <th>TCGA-3C-AALJ-01</th>\n      <td>62</td>\n      <td>1.082808</td>\n      <td>-4.623726</td>\n      <td>-0.531035</td>\n      <td>0.484028</td>\n      <td>-0.183678</td>\n      <td>-0.91901</td>\n      <td>0.261106</td>\n      <td>0.687754</td>\n      <td>-0.423399</td>\n      <td>...</td>\n      <td>-0.656117</td>\n      <td>-0.216733</td>\n      <td>0.21081</td>\n      <td>0.101023</td>\n      <td>0.660514</td>\n      <td>1.295073</td>\n      <td>0.915105</td>\n      <td>0.168567</td>\n      <td>0.047788</td>\n      <td>1</td>\n    </tr>\n    <tr>\n      <th>TCGA-3C-AALK-01</th>\n      <td>52</td>\n      <td>0.121608</td>\n      <td>-2.881526</td>\n      <td>-0.531035</td>\n      <td>0.179128</td>\n      <td>0.039222</td>\n      <td>-0.45491</td>\n      <td>0.180306</td>\n      <td>0.775554</td>\n      <td>-0.423399</td>\n      <td>...</td>\n      <td>-0.178417</td>\n      <td>-0.211233</td>\n      <td>-1.28139</td>\n      <td>0.108023</td>\n      <td>1.132814</td>\n      <td>0.496773</td>\n      <td>0.240105</td>\n      <td>3.099767</td>\n      <td>0.112888</td>\n      <td>1</td>\n    </tr>\n    <tr>\n      <th>TCGA-4H-AAAK-01</th>\n      <td>50</td>\n      <td>0.420208</td>\n      <td>-3.282726</td>\n      <td>-0.531035</td>\n      <td>-0.020972</td>\n      <td>-0.117978</td>\n      <td>-0.55781</td>\n      <td>-0.173794</td>\n      <td>-1.079146</td>\n      <td>0.465001</td>\n      <td>...</td>\n      <td>-0.698717</td>\n      <td>-0.484233</td>\n      <td>-1.28139</td>\n      <td>-0.223577</td>\n      <td>1.222714</td>\n      <td>0.225573</td>\n      <td>-0.301995</td>\n      <td>0.200067</td>\n      <td>-0.080212</td>\n      <td>1</td>\n    </tr>\n  </tbody>\n</table>\n<p>5 rows × 20532 columns</p>\n</div>"
     },
     "execution_count": 8,
     "metadata": {},
     "output_type": "execute_result"
    }
   ]
  },
  {
   "cell_type": "code",
   "source": [
    "input_cols"
   ],
   "metadata": {
    "colab": {
     "base_uri": "https://localhost:8080/"
    },
    "id": "ODsNwYji88fx",
    "outputId": "0df8d014-82c8-4081-f1ef-0c11f2baeafa",
    "ExecuteTime": {
     "end_time": "2023-10-14T00:11:27.233526699Z",
     "start_time": "2023-10-14T00:11:27.162340432Z"
    }
   },
   "execution_count": 9,
   "outputs": [
    {
     "data": {
      "text/plain": "Index(['days_to_birth', 'ARHGEF10L', 'HIF3A', 'RNF17', 'RNF10', 'RNF11',\n       'RNF13', 'GTF2IP1', 'REM1', 'MTVR2',\n       ...\n       'NPY5R', 'GNGT2', 'GNGT1', 'TULP3', 'PTRF', 'BCL6B', 'GSTK1', 'SELP',\n       'SELS', 'Tumor'],\n      dtype='object', length=20532)"
     },
     "execution_count": 9,
     "metadata": {},
     "output_type": "execute_result"
    }
   ]
  },
  {
   "cell_type": "code",
   "source": [
    "# Calculate the number of samples marked as 1 in the Tumor column\n",
    "tumor_1_count = (merged_data['Tumor'] == 1).sum()\n",
    "\n",
    "# Calculate the number of samples marked as 0 in the Tumor column\n",
    "tumor_0_count = (merged_data['Tumor'] == 0).sum()\n",
    "\n",
    "# Calculate the number of samples marked as -1 in the Tumor column\n",
    "tumor_minus_1_count = (merged_data['Tumor'] == -1).sum()\n",
    "\n",
    "# Print the number of samples for each label along with respective explanations\n",
    "print(f\"Number of samples with Tumor = 1 (Cancer samples): {tumor_1_count}\")\n",
    "print(f\"Number of samples with Tumor = 0 (Normal samples): {tumor_0_count}\")\n",
    "print(f\"Number of samples with Tumor = -1 (Abnormal data): {tumor_minus_1_count}\")"
   ],
   "metadata": {
    "id": "hpq18DXqT_cE",
    "colab": {
     "base_uri": "https://localhost:8080/"
    },
    "outputId": "211e09cc-0cad-4ca8-aaef-5b2cceb6fb32",
    "ExecuteTime": {
     "end_time": "2023-10-14T00:11:28.702130348Z",
     "start_time": "2023-10-14T00:11:28.699942740Z"
    }
   },
   "execution_count": 10,
   "outputs": [
    {
     "name": "stdout",
     "output_type": "stream",
     "text": [
      "Number of samples with Tumor = 1 (Cancer samples): 1087\n",
      "Number of samples with Tumor = 0 (Normal samples): 112\n",
      "Number of samples with Tumor = -1 (Abnormal data): 0\n"
     ]
    }
   ]
  },
  {
   "cell_type": "markdown",
   "source": [
    "### Do regression & Cross Validation"
   ],
   "metadata": {
    "id": "-MTPhRGxJV7I"
   }
  },
  {
   "cell_type": "code",
   "source": [
    "import pandas as pd\n",
    "from sparse_lmm import VariableSelection\n",
    "\n",
    "# Step 1: Read the CSV file\n",
    "#df = pd.read_csv(\"prepared_data.csv\")\n",
    "\n",
    "# Step 2: Select relevant columns and convert to numpy array\n",
    "data_array = merged_data.values\n",
    "\n",
    "# Normalize data\n",
    "X = data_array\n",
    "mean = np.mean(X, axis=0)\n",
    "std = np.std(X, axis=0)\n",
    "zero_std_columns = np.where(std == 0)[0]\n",
    "X = (X - mean) / std\n",
    "X[:, zero_std_columns] = 0\n",
    "\n",
    "y = merged_data['Tumor'].values\n",
    "\n",
    "# Implementing k-fold cross-validation\n",
    "def cross_validation(X, y, k=5):\n",
    "    # Shuffle data\n",
    "    indices = np.arange(X.shape[0])\n",
    "    np.random.shuffle(indices)\n",
    "    X_shuffled = X[indices]\n",
    "    y_shuffled = y[indices]\n",
    "\n",
    "    fold_size = len(X) // k\n",
    "    accuracies = []\n",
    "\n",
    "    for i in range(k):\n",
    "        # Split data into train and test based on the current fold\n",
    "        test_indices = indices[i*fold_size : (i+1)*fold_size]\n",
    "        train_indices = np.setdiff1d(indices, test_indices)\n",
    "\n",
    "        X_train, X_test = X_shuffled[train_indices], X_shuffled[test_indices]\n",
    "        y_train, y_test = y_shuffled[train_indices], y_shuffled[test_indices]\n",
    "\n",
    "        # Use the precision_lasso package for regression\n",
    "        var_select = VariableSelection()\n",
    "        var_select.fit(X_train, y_train)\n",
    "        predictions = var_select.predict(X_test) # need package update\n",
    "\n",
    "        # Turn the predictions into binary values using a threshold of 0.5\n",
    "        binary_predictions = (predictions > 0.5).astype(int)\n",
    "\n",
    "        # Calculate accuracy for this fold\n",
    "        accuracy = np.mean(binary_predictions == y_test)\n",
    "        accuracies.append(accuracy)\n",
    "\n",
    "    # Return average accuracy over all folds\n",
    "    return np.mean(accuracies)\n",
    "\n",
    "# Print average accuracy for 5-fold cross-validation\n",
    "print(cross_validation(data_array, y))"
   ],
   "metadata": {
    "id": "Hv-TByO9VeJ8",
    "colab": {
     "base_uri": "https://localhost:8080/"
    },
    "outputId": "20e86001-2037-41a8-a483-1eb7aa911fae",
    "ExecuteTime": {
     "end_time": "2023-10-14T00:11:49.408549770Z",
     "start_time": "2023-10-14T00:11:29.927347943Z"
    }
   },
   "execution_count": 11,
   "outputs": [
    {
     "name": "stderr",
     "output_type": "stream",
     "text": [
      "/tmp/ipykernel_18502/1073961727.py:15: RuntimeWarning: invalid value encountered in divide\n",
      "  X = (X - mean) / std\n",
      "/home/techt/anaconda3/envs/hl/lib/python3.8/site-packages/sparse_lmm/helpingMethods.py:49: RuntimeWarning: invalid value encountered in divide\n",
      "  ts = beta / np.sqrt(var * sigma)\n",
      "/home/techt/anaconda3/envs/hl/lib/python3.8/site-packages/sparse_lmm/VariableSelection.py:183: RuntimeWarning: divide by zero encountered in log\n",
      "  return -np.log(p), np.array(betas)\n"
     ]
    },
    {
     "name": "stdout",
     "output_type": "stream",
     "text": [
      "0.7876682831182927\n"
     ]
    }
   ]
  },
  {
   "cell_type": "code",
   "source": [
    "# Step 3: Use the precision_lasso package for regression\n",
    "# Instantiate the VariableSelection class\n",
    "var_select = VariableSelection()\n",
    "\n",
    "# Fit the model\n",
    "var_select.fit(X, y)\n",
    "\n",
    "# Retrieve the coefficients\n",
    "coefficients = var_select.getBeta()\n",
    "nlog_p_values = var_select.getNegLogP()"
   ],
   "metadata": {
    "id": "m8ZOWKydGs6N",
    "ExecuteTime": {
     "end_time": "2023-10-14T00:11:53.441151940Z",
     "start_time": "2023-10-14T00:11:49.394646507Z"
    }
   },
   "execution_count": 12,
   "outputs": []
  },
  {
   "cell_type": "code",
   "source": [
    "import numpy as np\n",
    "for var, coef, nlogp in zip(input_cols, coefficients, nlog_p_values):\n",
    "    if 'brca' in var.lower():\n",
    "        print(var, coef, np.exp(-nlogp))\n",
    "    if condition_col in var:\n",
    "        print(var, coef, np.exp(-nlogp))"
   ],
   "metadata": {
    "id": "Ca5V0TGJVg1P",
    "colab": {
     "base_uri": "https://localhost:8080/"
    },
    "outputId": "c620a705-bb62-432f-c7f2-33c35b1bcd6f",
    "ExecuteTime": {
     "end_time": "2023-10-14T00:11:53.450067272Z",
     "start_time": "2023-10-14T00:11:53.446855119Z"
    }
   },
   "execution_count": 13,
   "outputs": [
    {
     "name": "stdout",
     "output_type": "stream",
     "text": [
      "days_to_birth [-0.00269322] 0.5685959021525373\n",
      "BRCA1 [-0.00459314] 0.49608248597162385\n",
      "BRCA2 [0.01140227] 0.22144014060356948\n"
     ]
    }
   ]
  },
  {
   "cell_type": "markdown",
   "source": [
    "### Discussion"
   ],
   "metadata": {
    "id": "EjJrxbvb4nlj"
   }
  },
  {
   "cell_type": "code",
   "source": [
    "# Hypothesis\n",
    "\n",
    "# Input the variables of interest, cancer name, and condition variable\n",
    "interest_variable = \"BRCA gene\"\n",
    "interest_var = 'brca'\n",
    "cancer_name = \"Breast Cancer\"\n",
    "condition_variable = \"Age\"\n",
    "\n",
    "# Generate hypothesis text\n",
    "hypotheses_text = f'Hypothesis\\n\\n'\n",
    "hypotheses_text += f'For the question \"What is the relationship between {interest_variable} and {cancer_name} when considering the influence of {condition_variable}?\", the following hypotheses can be proposed:\\n\\n'\n",
    "hypotheses_text += f'Null Hypothesis (H0): There is no significant association between the expression of the {interest_variable} and {cancer_name}, and this association is not influenced by {condition_variable}. In other words, the coefficient of the {interest_variable} is equal to zero in the regression model, and {condition_variable} does not significantly affect the risk of {cancer_name}.\\n\\n'\n",
    "hypotheses_text += f'Alternative Hypothesis (H1): There is an association between the expression of the {interest_variable} and {cancer_name}, and this association may be influenced by {condition_variable}. Specifically, the coefficient of the {interest_variable} is not equal to zero in the regression model, and {condition_variable} may have a significant impact on the risk of {cancer_name}, either positively or negatively.\\n\\n'\n",
    "\n",
    "# Print the generated hypothesis text\n",
    "print(hypotheses_text)"
   ],
   "metadata": {
    "id": "eiewXvYHj4Qo",
    "colab": {
     "base_uri": "https://localhost:8080/"
    },
    "outputId": "8ab6647f-722f-41ea-c347-1dc75d28e2bd",
    "ExecuteTime": {
     "end_time": "2023-10-14T00:11:53.457234546Z",
     "start_time": "2023-10-14T00:11:53.451265822Z"
    }
   },
   "execution_count": 14,
   "outputs": [
    {
     "name": "stdout",
     "output_type": "stream",
     "text": [
      "Hypothesis\n",
      "\n",
      "For the question \"What is the relationship between BRCA gene and Breast Cancer when considering the influence of Age?\", the following hypotheses can be proposed:\n",
      "\n",
      "Null Hypothesis (H0): There is no significant association between the expression of the BRCA gene and Breast Cancer, and this association is not influenced by Age. In other words, the coefficient of the BRCA gene is equal to zero in the regression model, and Age does not significantly affect the risk of Breast Cancer.\n",
      "\n",
      "Alternative Hypothesis (H1): There is an association between the expression of the BRCA gene and Breast Cancer, and this association may be influenced by Age. Specifically, the coefficient of the BRCA gene is not equal to zero in the regression model, and Age may have a significant impact on the risk of Breast Cancer, either positively or negatively.\n",
      "\n",
      "\n"
     ]
    }
   ]
  },
  {
   "cell_type": "code",
   "source": [
    "# Regression Model Report\n",
    "\n",
    "# Create lists to store information about the variables of interest\n",
    "interest_var_info = []\n",
    "condition_var_info = []\n",
    "\n",
    "# Extract information about variables related to interest_var\n",
    "for var, coef, nlogp in zip(input_cols, coefficients, nlog_p_values):\n",
    "    if interest_var in var.lower():\n",
    "        interest_var_info.append((var, coef, np.exp(-nlogp)))\n",
    "    if condition_col in var.lower():\n",
    "        condition_var_info.append((var, coef, np.exp(-nlogp)))\n",
    "\n",
    "# Generate the report \"Regression Results\"\n",
    "regression_report = \"Regression Results:\\n\\n\"\n",
    "regression_report += f\"For {interest_var}:\\n\"\n",
    "for variable_name, coefficient, p_value in interest_var_info:\n",
    "    regression_report += f\"{variable_name}: Coefficient = {coefficient}, p-value = {p_value}\\n\"\n",
    "\n",
    "regression_report += f\"\\nFor {condition_col}:\\n\"\n",
    "for variable_name, coefficient, p_value in condition_var_info:\n",
    "    regression_report += f\"{variable_name}: Coefficient = {coefficient}, p-value = {p_value}\\n\"\n",
    "\n",
    "# Print the generated report\n",
    "print(regression_report)"
   ],
   "metadata": {
    "id": "saAH-y1K_sbR",
    "colab": {
     "base_uri": "https://localhost:8080/"
    },
    "outputId": "12769592-832d-453c-ba73-2a702077d577",
    "ExecuteTime": {
     "end_time": "2023-10-14T00:11:53.480047117Z",
     "start_time": "2023-10-14T00:11:53.455508921Z"
    }
   },
   "execution_count": 15,
   "outputs": [
    {
     "name": "stdout",
     "output_type": "stream",
     "text": [
      "Regression Results:\n",
      "\n",
      "For brca:\n",
      "BRCA1: Coefficient = [-0.00459314], p-value = 0.49608248597162385\n",
      "BRCA2: Coefficient = [0.01140227], p-value = 0.22144014060356948\n",
      "\n",
      "For days_to_birth:\n",
      "days_to_birth: Coefficient = [-0.00269322], p-value = 0.5685959021525373\n",
      "\n"
     ]
    }
   ]
  },
  {
   "cell_type": "code",
   "source": [
    "# Interpretation of Regression Coefficients\n",
    "# Create a function to interpret regression coefficients and p-values\n",
    "def interpret_coefficient(variable_name, coefficient, p_value):\n",
    "    interpretation = f\"Variable: {variable_name}\\n\"\n",
    "\n",
    "    if coefficient > 0:\n",
    "        interpretation += \"Coefficient is positive, \"\n",
    "    elif coefficient < 0:\n",
    "        interpretation += \"Coefficient is negative, \"\n",
    "    else:\n",
    "        interpretation += \"Coefficient is zero, \"\n",
    "\n",
    "    if p_value < 0.05:  # Assuming a significance level of 0.05\n",
    "        interpretation += \"and it is statistically significant (p-value < 0.05).\\n\\n\"\n",
    "    else:\n",
    "        interpretation += \"and it is not statistically significant (p-value >= 0.05).\\n\\n\"\n",
    "\n",
    "    return interpretation\n",
    "\n",
    "# Create a report to interpret coefficients and p-values for all variables\n",
    "interpretation_coefficient_report = \"Interpretation of Regression Coefficients:\\n\\n\"\n",
    "\n",
    "for variable_name, coefficient, p_value in interest_var_info + condition_var_info:\n",
    "    interpretation_coefficient_report += interpret_coefficient(variable_name, coefficient, p_value)\n",
    "\n",
    "# Print the interpretation report\n",
    "print(interpretation_coefficient_report)"
   ],
   "metadata": {
    "id": "N0yiaYUBbdY_",
    "colab": {
     "base_uri": "https://localhost:8080/"
    },
    "outputId": "d001a522-2606-4717-885d-64aa12c61225",
    "ExecuteTime": {
     "end_time": "2023-10-14T00:11:53.535175712Z",
     "start_time": "2023-10-14T00:11:53.464768234Z"
    }
   },
   "execution_count": 16,
   "outputs": [
    {
     "name": "stdout",
     "output_type": "stream",
     "text": [
      "Interpretation of Regression Coefficients:\n",
      "\n",
      "Variable: BRCA1\n",
      "Coefficient is negative, and it is not statistically significant (p-value >= 0.05).\n",
      "\n",
      "Variable: BRCA2\n",
      "Coefficient is positive, and it is not statistically significant (p-value >= 0.05).\n",
      "\n",
      "Variable: days_to_birth\n",
      "Coefficient is negative, and it is not statistically significant (p-value >= 0.05).\n",
      "\n",
      "\n"
     ]
    }
   ]
  },
  {
   "cell_type": "code",
   "source": [
    "# Hypothesis Confirmation and Conclusion\n",
    "\n",
    "significance_level = 0.05\n",
    "# Create a function to determine if H0 or H1 is confirmed\n",
    "def confirm_hypothesis(coefficient, p_value, variable_name, significance_level=0.05):\n",
    "    if p_value >= significance_level:\n",
    "        return f\"H0 is not rejected: There is insufficient evidence to conclude a significant association between the expression of the {variable_name} gene and {cancer_name}, and {condition_variable}'s impact on the risk of {cancer_name} remains inconclusive.\"\n",
    "    elif coefficient != 0 and p_value < significance_level:\n",
    "        return f\"H1 is confirmed: There is an association between the expression of the {variable_name} and {cancer_name}, and this association may be influenced by {condition_variable}. Specifically, the coefficient of the {interest_variable} is equal to {coefficient} in the regression model, and {condition_variable} may have a significant impact on the risk of {cancer_name}, either positively or negatively.\\n\\n\"\n",
    "\n",
    "# Create a report to determine and conclude H0 or H1 confirmation for interaction terms\n",
    "hypothesis_confirmation_report = \"Hypothesis Confirmation and Conclusion:\\n\\n\"\n",
    "\n",
    "for variable_name, coefficient, p_value in interest_var_info:\n",
    "    confirmation = confirm_hypothesis(coefficient, p_value, variable_name)\n",
    "    hypothesis_confirmation_report += f\"Variable: {variable_name}\\n\"\n",
    "    hypothesis_confirmation_report += f\"Conclusion: {confirmation}\\n\\n\"\n",
    "\n",
    "# Print the hypothesis confirmation report\n",
    "print(hypothesis_confirmation_report)"
   ],
   "metadata": {
    "id": "FNVfYQEVAwtz",
    "colab": {
     "base_uri": "https://localhost:8080/"
    },
    "outputId": "41644775-872d-49d7-86ea-d2e4dadad034",
    "ExecuteTime": {
     "end_time": "2023-10-14T00:11:53.535462157Z",
     "start_time": "2023-10-14T00:11:53.506190614Z"
    }
   },
   "execution_count": 17,
   "outputs": [
    {
     "name": "stdout",
     "output_type": "stream",
     "text": [
      "Hypothesis Confirmation and Conclusion:\n",
      "\n",
      "Variable: BRCA1\n",
      "Conclusion: H0 is not rejected: There is insufficient evidence to conclude a significant association between the expression of the BRCA1 gene and Breast Cancer, and Age's impact on the risk of Breast Cancer remains inconclusive.\n",
      "\n",
      "Variable: BRCA2\n",
      "Conclusion: H0 is not rejected: There is insufficient evidence to conclude a significant association between the expression of the BRCA2 gene and Breast Cancer, and Age's impact on the risk of Breast Cancer remains inconclusive.\n",
      "\n",
      "\n"
     ]
    }
   ]
  },
  {
   "cell_type": "code",
   "execution_count": null,
   "outputs": [],
   "source": [],
   "metadata": {
    "collapsed": false
   }
  }
 ]
}
